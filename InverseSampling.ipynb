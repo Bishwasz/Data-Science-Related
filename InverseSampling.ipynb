{
  "nbformat": 4,
  "nbformat_minor": 0,
  "metadata": {
    "colab": {
      "provenance": []
    },
    "kernelspec": {
      "name": "ir",
      "display_name": "R"
    },
    "language_info": {
      "name": "R"
    }
  },
  "cells": [
    {
      "cell_type": "markdown",
      "source": [
        "#1.1\n",
        "Sampling from Unifrom For Volume Computation\n"
      ],
      "metadata": {
        "id": "RA2lJJSfGQiS"
      }
    },
    {
      "cell_type": "code",
      "source": [
        "generate_uni_points_Matrix <- function(dimenson, npoints) {\n",
        "  return(matrix(runif(npoints*dimenson, min=-1, max=1), nrow=npoints,ncol=dimenson))\n",
        "}\n",
        "phi <- function(si) {\n",
        "  return(sum(si * si) <= 1)  # Corrected multiplication operator\n",
        "}\n",
        "monte_carlo_uniform<-function(dimenson, npoints){\n",
        "  mat=generate_uni_points_Matrix(dimenson, npoints)\n",
        "  meow<- apply(mat,1,phi)\n",
        "  est<-(sum(meow)/npoints)\n",
        "  vol<-(sum(meow)/npoints)*(2^dimenson)\n",
        "  var<-vol*(2^dimenson-vol)/(npoints-1)\n",
        "\n",
        "  return (c(vol, var))\n",
        "}\n",
        "real_Vol <- function(d) {\n",
        "  numerator<-pi^(d/2)\n",
        "  half_d <- d / 2\n",
        "  gamma_val <- gamma(half_d + 1)\n",
        "\n",
        "  result <- numerator / gamma_val\n",
        "  return(result)\n",
        "}\n",
        "\n",
        "vol_compConfInt <- function( est, vari, nn, alf ){\n",
        "  norm = c(est - qnorm(1-alf/2)*sqrt(vari), est, est + qnorm(1-alf/2)*sqrt(vari) )\n",
        "  cheb = c(est - sqrt(4*nn*alf)^(-1), est, est + sqrt(4*nn*alf)^(-1) )\n",
        "  hoef = c(est - sqrt(-log(alf/2)/(2*nn)), est, est + sqrt(-log(alf/2)/(2*nn)) )\n",
        "  return(\n",
        "    rbind( norm,cheb,hoef )\n",
        "  )\n",
        "}\n",
        "\n",
        "\n",
        "nn=5000\n",
        "d=2\n",
        "cat(\"True Volume For Dimenson 2\", real_Vol(d),\"\\n\")\n",
        "a<-monte_carlo_uniform(d,nn)\n",
        "vol_compConfInt(a[1],a[2],nn,0.05)\n",
        "cat(\"\\n\")\n",
        "\n",
        "nn=10000\n",
        "d=3\n",
        "cat(\"True Volume For Dimenson 3\", real_Vol(d),\"\\n\")\n",
        "a<-monte_carlo_uniform(d,nn)\n",
        "vol_compConfInt(a[1],a[2],nn,0.05)\n",
        "cat(\"\\n\")\n",
        "\n",
        "\n",
        "nn=25000\n",
        "d=15\n",
        "cat(\"True Volume For Dimenson 15\", real_Vol(d),\"\\n\")\n",
        "# print(real_Vol(d))\n",
        "a<-monte_carlo_uniform(d,nn)\n",
        "vol_compConfInt(a[1],a[2],nn,0.05)"
      ],
      "metadata": {
        "colab": {
          "base_uri": "https://localhost:8080/",
          "height": 441
        },
        "id": "7ZIzb4nHGQCw",
        "outputId": "1cb6f273-83d2-4ac4-c643-229b86c1db43"
      },
      "execution_count": null,
      "outputs": [
        {
          "output_type": "stream",
          "name": "stdout",
          "text": [
            "True Volume For Dimenson 2 3.141593 \n"
          ]
        },
        {
          "output_type": "display_data",
          "data": {
            "text/html": [
              "<table class=\"dataframe\">\n",
              "<caption>A matrix: 3 × 3 of type dbl</caption>\n",
              "<tbody>\n",
              "\t<tr><th scope=row>norm</th><td>3.083033</td><td>3.1288</td><td>3.174567</td></tr>\n",
              "\t<tr><th scope=row>cheb</th><td>3.097177</td><td>3.1288</td><td>3.160423</td></tr>\n",
              "\t<tr><th scope=row>hoef</th><td>3.109594</td><td>3.1288</td><td>3.148006</td></tr>\n",
              "</tbody>\n",
              "</table>\n"
            ],
            "text/markdown": "\nA matrix: 3 × 3 of type dbl\n\n| norm | 3.083033 | 3.1288 | 3.174567 |\n| cheb | 3.097177 | 3.1288 | 3.160423 |\n| hoef | 3.109594 | 3.1288 | 3.148006 |\n\n",
            "text/latex": "A matrix: 3 × 3 of type dbl\n\\begin{tabular}{r|lll}\n\tnorm & 3.083033 & 3.1288 & 3.174567\\\\\n\tcheb & 3.097177 & 3.1288 & 3.160423\\\\\n\thoef & 3.109594 & 3.1288 & 3.148006\\\\\n\\end{tabular}\n",
            "text/plain": [
              "     [,1]     [,2]   [,3]    \n",
              "norm 3.083033 3.1288 3.174567\n",
              "cheb 3.097177 3.1288 3.160423\n",
              "hoef 3.109594 3.1288 3.148006"
            ]
          },
          "metadata": {}
        },
        {
          "output_type": "stream",
          "name": "stdout",
          "text": [
            "\n",
            "True Volume For Dimenson 3 4.18879 \n"
          ]
        },
        {
          "output_type": "display_data",
          "data": {
            "text/html": [
              "<table class=\"dataframe\">\n",
              "<caption>A matrix: 3 × 3 of type dbl</caption>\n",
              "<tbody>\n",
              "\t<tr><th scope=row>norm</th><td>4.052840</td><td>4.1312</td><td>4.209560</td></tr>\n",
              "\t<tr><th scope=row>cheb</th><td>4.108839</td><td>4.1312</td><td>4.153561</td></tr>\n",
              "\t<tr><th scope=row>hoef</th><td>4.117619</td><td>4.1312</td><td>4.144781</td></tr>\n",
              "</tbody>\n",
              "</table>\n"
            ],
            "text/markdown": "\nA matrix: 3 × 3 of type dbl\n\n| norm | 4.052840 | 4.1312 | 4.209560 |\n| cheb | 4.108839 | 4.1312 | 4.153561 |\n| hoef | 4.117619 | 4.1312 | 4.144781 |\n\n",
            "text/latex": "A matrix: 3 × 3 of type dbl\n\\begin{tabular}{r|lll}\n\tnorm & 4.052840 & 4.1312 & 4.209560\\\\\n\tcheb & 4.108839 & 4.1312 & 4.153561\\\\\n\thoef & 4.117619 & 4.1312 & 4.144781\\\\\n\\end{tabular}\n",
            "text/plain": [
              "     [,1]     [,2]   [,3]    \n",
              "norm 4.052840 4.1312 4.209560\n",
              "cheb 4.108839 4.1312 4.153561\n",
              "hoef 4.117619 4.1312 4.144781"
            ]
          },
          "metadata": {}
        },
        {
          "output_type": "stream",
          "name": "stdout",
          "text": [
            "\n",
            "True Volume For Dimenson 15 0.3814433 \n"
          ]
        },
        {
          "output_type": "display_data",
          "data": {
            "text/html": [
              "<table class=\"dataframe\">\n",
              "<caption>A matrix: 3 × 3 of type dbl</caption>\n",
              "<tbody>\n",
              "\t<tr><th scope=row>norm</th><td> 0.000000000</td><td>0</td><td>0.000000000</td></tr>\n",
              "\t<tr><th scope=row>cheb</th><td>-0.014142136</td><td>0</td><td>0.014142136</td></tr>\n",
              "\t<tr><th scope=row>hoef</th><td>-0.008589388</td><td>0</td><td>0.008589388</td></tr>\n",
              "</tbody>\n",
              "</table>\n"
            ],
            "text/markdown": "\nA matrix: 3 × 3 of type dbl\n\n| norm |  0.000000000 | 0 | 0.000000000 |\n| cheb | -0.014142136 | 0 | 0.014142136 |\n| hoef | -0.008589388 | 0 | 0.008589388 |\n\n",
            "text/latex": "A matrix: 3 × 3 of type dbl\n\\begin{tabular}{r|lll}\n\tnorm &  0.000000000 & 0 & 0.000000000\\\\\n\tcheb & -0.014142136 & 0 & 0.014142136\\\\\n\thoef & -0.008589388 & 0 & 0.008589388\\\\\n\\end{tabular}\n",
            "text/plain": [
              "     [,1]         [,2] [,3]       \n",
              "norm  0.000000000 0    0.000000000\n",
              "cheb -0.014142136 0    0.014142136\n",
              "hoef -0.008589388 0    0.008589388"
            ]
          },
          "metadata": {}
        }
      ]
    },
    {
      "cell_type": "markdown",
      "source": [
        "#1.2\n",
        "Sampling from Non-Uniform\n",
        "Let our Beta random variable be Y~beta(1/2,1/2), 0<Y<1\n",
        "but we want beta to be on -1<Y<1\n",
        "So by applying scaling and shifting we get a new Random Variable X=2Y-1,\n",
        "throught transformation of variable we get new pdf lets call it $$\n",
        "g(x) = \\frac{1}{\\pi} \\left( x + 1 \\right)^{-\\frac{1}{2}} \\left( -x + 1 \\right)^{-\\frac{1}{2}}\n",
        "$$**bold text**"
      ],
      "metadata": {
        "id": "H5j9akVHLPu9"
      }
    },
    {
      "cell_type": "code",
      "source": [
        "# g<-function(x){\n",
        "#   return ((1/pi)*(((x+1)^(-1/2))*(-x+1)^(-1/2)))\n",
        "# }\n",
        "g<-function(x){\n",
        "  return (1/(pi*sqrt(1-x)*sqrt(1+x)))\n",
        "}\n",
        "phi <- function(si) {\n",
        "  return(sum(si * si) <= 1)  # Corrected multiplication operator\n",
        "}\n",
        "vol_monteCarloBeta <- function(\n",
        "  nn=50000, dd=4\n",
        "){\n",
        "  # generate nn * dd beta random variables\n",
        "  mcGrid <- matrix(\n",
        "    rbeta( nn*dd, shape1 = 1/2, shape2 = 1/2 ), nrow=nn, ncol=dd\n",
        "  );\n",
        "  # print(mcGrid)\n",
        "  mcGrid=2*mcGrid-1\n",
        "  # print(mcGrid)\n",
        "  # Apply phi to each row in mcGrid\n",
        "  # to determine if the point is in region D\n",
        "  inRegion <- apply( mcGrid, 1, phi )\n",
        "  # print(inRegion)\n",
        "\n",
        "  betaWeight <- g(mcGrid)\n",
        "  # print(betaWeight)\n",
        "\n",
        "  betaWeight <- apply( betaWeight, 1, prod )\n",
        "  #print(betaWeight)\n",
        "\n",
        "  if((dd==2) )\n",
        "    plot(\n",
        "      mcGrid, xlim=c(0,1),ylim=c(0,1),las=1,\n",
        "      col = c(\"gray\",\"red\")[inRegion+1],pch=16\n",
        "    )\n",
        "  # cat(inRegion, betaWeight)\n",
        "\n",
        "  # print(inRegion/betaWeight)\n",
        "  est = mean(inRegion/betaWeight)\n",
        "  vari= (var(inRegion/betaWeight)/(nn-1))\n",
        "  return(\n",
        "    c(\n",
        "      est,   # estimate for vol(D)\n",
        "      vari   # estimate variance\n",
        "    )\n",
        "  )\n",
        "}\n",
        "vol_compConfInt <- function( est, vari, nn, alf ){\n",
        "  norm = c(est - qnorm(1-alf/2)*sqrt(vari), est, est + qnorm(1-alf/2)*sqrt(vari) )\n",
        "  cheb = c(est - sqrt(4*nn*alf)^(-1), est, est + sqrt(4*nn*alf)^(-1) )\n",
        "  hoef = c(est - sqrt(-log(alf/2)/(2*nn)), est, est + sqrt(-log(alf/2)/(2*nn)) )\n",
        "  return(\n",
        "    rbind( norm,cheb,hoef )\n",
        "  )\n",
        "}\n",
        "\n",
        "nn=10000\n",
        "d=2\n",
        "print(\"True Volume For Dimenson 2\")\n",
        "print(real_Vol(d))\n",
        "a<-vol_monteCarloBeta(nn,d)\n",
        "vol_compConfInt(a[1],a[2],nn,0.05)\n",
        "cat(\"\\n\")\n",
        "\n",
        "nn=10000\n",
        "d=3\n",
        "print(\"True Volume For Dimenson 3\")\n",
        "print(real_Vol(d))\n",
        "a<-vol_monteCarloBeta(nn,d)\n",
        "vol_compConfInt(a[1],a[2],nn,0.05)\n",
        "cat(\"\\n\")\n",
        "\n",
        "nn=10000\n",
        "d=15\n",
        "print(\"True Volume For Dimenson 15\")\n",
        "print(real_Vol(d))\n",
        "a<-vol_monteCarloBeta(nn,d)\n",
        "vol_compConfInt(a[1],a[2],nn,0.05)"
      ],
      "metadata": {
        "colab": {
          "base_uri": "https://localhost:8080/",
          "height": 914
        },
        "id": "TDIL7IrkLgHN",
        "outputId": "1e1b55ac-2462-4159-d419-a1d3c50db253"
      },
      "execution_count": null,
      "outputs": [
        {
          "output_type": "stream",
          "name": "stdout",
          "text": [
            "[1] \"True Volume For Dimenson 2\"\n",
            "[1] 3.141593\n"
          ]
        },
        {
          "output_type": "display_data",
          "data": {
            "text/html": [
              "<table class=\"dataframe\">\n",
              "<caption>A matrix: 3 × 3 of type dbl</caption>\n",
              "<tbody>\n",
              "\t<tr><th scope=row>norm</th><td>3.063296</td><td>3.131418</td><td>3.199540</td></tr>\n",
              "\t<tr><th scope=row>cheb</th><td>3.109057</td><td>3.131418</td><td>3.153779</td></tr>\n",
              "\t<tr><th scope=row>hoef</th><td>3.117837</td><td>3.131418</td><td>3.144999</td></tr>\n",
              "</tbody>\n",
              "</table>\n"
            ],
            "text/markdown": "\nA matrix: 3 × 3 of type dbl\n\n| norm | 3.063296 | 3.131418 | 3.199540 |\n| cheb | 3.109057 | 3.131418 | 3.153779 |\n| hoef | 3.117837 | 3.131418 | 3.144999 |\n\n",
            "text/latex": "A matrix: 3 × 3 of type dbl\n\\begin{tabular}{r|lll}\n\tnorm & 3.063296 & 3.131418 & 3.199540\\\\\n\tcheb & 3.109057 & 3.131418 & 3.153779\\\\\n\thoef & 3.117837 & 3.131418 & 3.144999\\\\\n\\end{tabular}\n",
            "text/plain": [
              "     [,1]     [,2]     [,3]    \n",
              "norm 3.063296 3.131418 3.199540\n",
              "cheb 3.109057 3.131418 3.153779\n",
              "hoef 3.117837 3.131418 3.144999"
            ]
          },
          "metadata": {}
        },
        {
          "output_type": "stream",
          "name": "stdout",
          "text": [
            "[1] \"\"\n",
            "[1] \"True Volume For Dimenson 3\"\n",
            "[1] 4.18879\n"
          ]
        },
        {
          "output_type": "display_data",
          "data": {
            "text/html": [
              "<table class=\"dataframe\">\n",
              "<caption>A matrix: 3 × 3 of type dbl</caption>\n",
              "<tbody>\n",
              "\t<tr><th scope=row>norm</th><td>3.981635</td><td>4.145011</td><td>4.308388</td></tr>\n",
              "\t<tr><th scope=row>cheb</th><td>4.122650</td><td>4.145011</td><td>4.167372</td></tr>\n",
              "\t<tr><th scope=row>hoef</th><td>4.131430</td><td>4.145011</td><td>4.158592</td></tr>\n",
              "</tbody>\n",
              "</table>\n"
            ],
            "text/markdown": "\nA matrix: 3 × 3 of type dbl\n\n| norm | 3.981635 | 4.145011 | 4.308388 |\n| cheb | 4.122650 | 4.145011 | 4.167372 |\n| hoef | 4.131430 | 4.145011 | 4.158592 |\n\n",
            "text/latex": "A matrix: 3 × 3 of type dbl\n\\begin{tabular}{r|lll}\n\tnorm & 3.981635 & 4.145011 & 4.308388\\\\\n\tcheb & 4.122650 & 4.145011 & 4.167372\\\\\n\thoef & 4.131430 & 4.145011 & 4.158592\\\\\n\\end{tabular}\n",
            "text/plain": [
              "     [,1]     [,2]     [,3]    \n",
              "norm 3.981635 4.145011 4.308388\n",
              "cheb 4.122650 4.145011 4.167372\n",
              "hoef 4.131430 4.145011 4.158592"
            ]
          },
          "metadata": {}
        },
        {
          "output_type": "stream",
          "name": "stdout",
          "text": [
            "[1] \"\"\n",
            "[1] \"True Volume For Dimenson 15\"\n",
            "[1] 0.3814433\n"
          ]
        },
        {
          "output_type": "display_data",
          "data": {
            "text/html": [
              "<table class=\"dataframe\">\n",
              "<caption>A matrix: 3 × 3 of type dbl</caption>\n",
              "<tbody>\n",
              "\t<tr><th scope=row>norm</th><td> 0.00000000</td><td>0</td><td>0.00000000</td></tr>\n",
              "\t<tr><th scope=row>cheb</th><td>-0.02236068</td><td>0</td><td>0.02236068</td></tr>\n",
              "\t<tr><th scope=row>hoef</th><td>-0.01358102</td><td>0</td><td>0.01358102</td></tr>\n",
              "</tbody>\n",
              "</table>\n"
            ],
            "text/markdown": "\nA matrix: 3 × 3 of type dbl\n\n| norm |  0.00000000 | 0 | 0.00000000 |\n| cheb | -0.02236068 | 0 | 0.02236068 |\n| hoef | -0.01358102 | 0 | 0.01358102 |\n\n",
            "text/latex": "A matrix: 3 × 3 of type dbl\n\\begin{tabular}{r|lll}\n\tnorm &  0.00000000 & 0 & 0.00000000\\\\\n\tcheb & -0.02236068 & 0 & 0.02236068\\\\\n\thoef & -0.01358102 & 0 & 0.01358102\\\\\n\\end{tabular}\n",
            "text/plain": [
              "     [,1]        [,2] [,3]      \n",
              "norm  0.00000000 0    0.00000000\n",
              "cheb -0.02236068 0    0.02236068\n",
              "hoef -0.01358102 0    0.01358102"
            ]
          },
          "metadata": {}
        },
        {
          "output_type": "display_data",
          "data": {
            "text/plain": [
              "plot without title"
            ],
            "image/png": "[encoded data removed]"
          },
          "metadata": {
            "image/png": {
              "width": 420,
              "height": 420
            }
          }
        }
      ]
    },
    {
      "cell_type": "markdown",
      "source": [
        "#1.3\n",
        "beta(2,2) distibution adjusted to [-1,1] is\n",
        "$$ f(x)=\\frac{3}{2}\\left(1+x\\right)\\left(\\frac{1}{2}-\\frac{1}{2}x\\right) $$\n"
      ],
      "metadata": {
        "id": "QgTeldw8jH9a"
      }
    },
    {
      "cell_type": "code",
      "source": [
        "fg<-function(x){\n",
        "  return ((3/2) * (1 + x) * ((1/2) - (1/2) * x))\n",
        "  # return ((3/2)*(1+x)((1/2)-(1/2)*x))\n",
        "}\n",
        "vol_monteCarloBeta2 <- function(\n",
        "  nn=50000, dd=4\n",
        "){\n",
        "  # generate nn * dd beta random variables\n",
        "  mcGrid <- matrix(\n",
        "    rbeta( nn*dd, shape1 = 2, shape2 = 2 ), nrow=nn, ncol=dd\n",
        "  );\n",
        "  mcGrid=2*mcGrid-1\n",
        "  # Apply phi to each row in mcGrid\n",
        "  # to determine if the point is in region D\n",
        "  inRegion <- apply( mcGrid, 1, phi )\n",
        "  # print(inRegion)\n",
        "\n",
        "  betaWeight <- fg(mcGrid)\n",
        "\n",
        "  betaWeight <- apply( betaWeight, 1, prod )\n",
        "\n",
        "  if( (dd==2) )\n",
        "    plot(\n",
        "      mcGrid, xlim=c(0,1),ylim=c(0,1),las=1,\n",
        "      col = c(\"gray\",\"red\")[inRegion+1],pch=16\n",
        "    )\n",
        "\n",
        "  # print(inRegion/betaWeight)\n",
        "  est = mean(inRegion/betaWeight)\n",
        "  vari= var(inRegion/betaWeight)/(nn-1)\n",
        "  return(\n",
        "    c(\n",
        "      est,   # estimate for vol(D)\n",
        "      vari   # estimate variance\n",
        "    )\n",
        "  )\n",
        "}\n",
        "\n",
        "nn=5000\n",
        "d=2\n",
        "print(\"True Volume For Dimenson 2\")\n",
        "print(real_Vol(d))\n",
        "a<-vol_monteCarloBeta2(nn,d)\n",
        "vol_compConfInt(a[1],a[2],nn,0.05)\n",
        "cat(\"\\n\")\n",
        "\n",
        "nn=10000\n",
        "d=3\n",
        "print(\"True Volume For Dimenson 3\")\n",
        "print(real_Vol(d))\n",
        "a<-vol_monteCarloBeta2(nn,d)\n",
        "vol_compConfInt(a[1],a[2],nn,0.05)\n",
        "cat(\"\\n\")\n",
        "\n",
        "nn=25000\n",
        "d=15\n",
        "print(\"True Volume For Dimenson 15\")\n",
        "print(real_Vol(d))\n",
        "a<-vol_monteCarloBeta2(nn,d)\n",
        "vol_compConfInt(a[1],a[2],nn,0.05)\n",
        "print(\"\")\n",
        "\n"
      ],
      "metadata": {
        "colab": {
          "base_uri": "https://localhost:8080/",
          "height": 932
        },
        "id": "EuvhOAQ5jPTB",
        "outputId": "762bdd4a-0bb9-49af-a3ce-560755c18b11"
      },
      "execution_count": null,
      "outputs": [
        {
          "output_type": "stream",
          "name": "stdout",
          "text": [
            "[1] \"True Volume For Dimenson 2\"\n",
            "[1] 3.141593\n"
          ]
        },
        {
          "output_type": "display_data",
          "data": {
            "text/html": [
              "<table class=\"dataframe\">\n",
              "<caption>A matrix: 3 × 3 of type dbl</caption>\n",
              "<tbody>\n",
              "\t<tr><th scope=row>norm</th><td>3.008222</td><td>3.067732</td><td>3.127241</td></tr>\n",
              "\t<tr><th scope=row>cheb</th><td>3.036109</td><td>3.067732</td><td>3.099354</td></tr>\n",
              "\t<tr><th scope=row>hoef</th><td>3.048525</td><td>3.067732</td><td>3.086938</td></tr>\n",
              "</tbody>\n",
              "</table>\n"
            ],
            "text/markdown": "\nA matrix: 3 × 3 of type dbl\n\n| norm | 3.008222 | 3.067732 | 3.127241 |\n| cheb | 3.036109 | 3.067732 | 3.099354 |\n| hoef | 3.048525 | 3.067732 | 3.086938 |\n\n",
            "text/latex": "A matrix: 3 × 3 of type dbl\n\\begin{tabular}{r|lll}\n\tnorm & 3.008222 & 3.067732 & 3.127241\\\\\n\tcheb & 3.036109 & 3.067732 & 3.099354\\\\\n\thoef & 3.048525 & 3.067732 & 3.086938\\\\\n\\end{tabular}\n",
            "text/plain": [
              "     [,1]     [,2]     [,3]    \n",
              "norm 3.008222 3.067732 3.127241\n",
              "cheb 3.036109 3.067732 3.099354\n",
              "hoef 3.048525 3.067732 3.086938"
            ]
          },
          "metadata": {}
        },
        {
          "output_type": "stream",
          "name": "stdout",
          "text": [
            "\n",
            "[1] \"True Volume For Dimenson 3\"\n",
            "[1] 4.18879\n"
          ]
        },
        {
          "output_type": "display_data",
          "data": {
            "text/html": [
              "<table class=\"dataframe\">\n",
              "<caption>A matrix: 3 × 3 of type dbl</caption>\n",
              "<tbody>\n",
              "\t<tr><th scope=row>norm</th><td>4.097337</td><td>4.159457</td><td>4.221577</td></tr>\n",
              "\t<tr><th scope=row>cheb</th><td>4.137096</td><td>4.159457</td><td>4.181817</td></tr>\n",
              "\t<tr><th scope=row>hoef</th><td>4.145876</td><td>4.159457</td><td>4.173038</td></tr>\n",
              "</tbody>\n",
              "</table>\n"
            ],
            "text/markdown": "\nA matrix: 3 × 3 of type dbl\n\n| norm | 4.097337 | 4.159457 | 4.221577 |\n| cheb | 4.137096 | 4.159457 | 4.181817 |\n| hoef | 4.145876 | 4.159457 | 4.173038 |\n\n",
            "text/latex": "A matrix: 3 × 3 of type dbl\n\\begin{tabular}{r|lll}\n\tnorm & 4.097337 & 4.159457 & 4.221577\\\\\n\tcheb & 4.137096 & 4.159457 & 4.181817\\\\\n\thoef & 4.145876 & 4.159457 & 4.173038\\\\\n\\end{tabular}\n",
            "text/plain": [
              "     [,1]     [,2]     [,3]    \n",
              "norm 4.097337 4.159457 4.221577\n",
              "cheb 4.137096 4.159457 4.181817\n",
              "hoef 4.145876 4.159457 4.173038"
            ]
          },
          "metadata": {}
        },
        {
          "output_type": "stream",
          "name": "stdout",
          "text": [
            "\n",
            "[1] \"True Volume For Dimenson 15\"\n",
            "[1] 0.3814433\n"
          ]
        },
        {
          "output_type": "display_data",
          "data": {
            "text/html": [
              "<table class=\"dataframe\">\n",
              "<caption>A matrix: 3 × 3 of type dbl</caption>\n",
              "<tbody>\n",
              "\t<tr><th scope=row>norm</th><td>0.2285269</td><td>0.3274586</td><td>0.4263903</td></tr>\n",
              "\t<tr><th scope=row>cheb</th><td>0.3133165</td><td>0.3274586</td><td>0.3416007</td></tr>\n",
              "\t<tr><th scope=row>hoef</th><td>0.3188692</td><td>0.3274586</td><td>0.3360480</td></tr>\n",
              "</tbody>\n",
              "</table>\n"
            ],
            "text/markdown": "\nA matrix: 3 × 3 of type dbl\n\n| norm | 0.2285269 | 0.3274586 | 0.4263903 |\n| cheb | 0.3133165 | 0.3274586 | 0.3416007 |\n| hoef | 0.3188692 | 0.3274586 | 0.3360480 |\n\n",
            "text/latex": "A matrix: 3 × 3 of type dbl\n\\begin{tabular}{r|lll}\n\tnorm & 0.2285269 & 0.3274586 & 0.4263903\\\\\n\tcheb & 0.3133165 & 0.3274586 & 0.3416007\\\\\n\thoef & 0.3188692 & 0.3274586 & 0.3360480\\\\\n\\end{tabular}\n",
            "text/plain": [
              "     [,1]      [,2]      [,3]     \n",
              "norm 0.2285269 0.3274586 0.4263903\n",
              "cheb 0.3133165 0.3274586 0.3416007\n",
              "hoef 0.3188692 0.3274586 0.3360480"
            ]
          },
          "metadata": {}
        },
        {
          "output_type": "stream",
          "name": "stdout",
          "text": [
            "[1] \"\"\n"
          ]
        },
        {
          "output_type": "display_data",
          "data": {
            "text/plain": [
              "plot without title"
            ],
            "image/png": "[encoded data removed]"
          },
          "metadata": {
            "image/png": {
              "width": 420,
              "height": 420
            }
          }
        }
      ]
    },
    {
      "cell_type": "markdown",
      "source": [
        "We can observe that as we increase our dimensons our estimation get more noisy and need to have more sampling points to get accurate statistics."
      ],
      "metadata": {
        "id": "oFIBxkgC-Tf9"
      }
    },
    {
      "cell_type": "markdown",
      "source": [
        "# 2 Monte Carlo Integration of Bessel Function"
      ],
      "metadata": {
        "id": "kSsyAlYlARvb"
      }
    },
    {
      "cell_type": "markdown",
      "source": [
        "Uniform\n"
      ],
      "metadata": {
        "id": "rJZWlcIaFm79"
      }
    },
    {
      "cell_type": "code",
      "source": [
        "# OUR INTEGRAND\n",
        "g<-function(m,t,x){\n",
        "  k=cos(m*t-x*sin(t))\n",
        "  return (k/(1/pi))\n",
        "}\n",
        "getInterval<-function(est,estVar,nn,alpha){\n",
        "  z<-qnorm(1-alpha/2)\n",
        "  return(c(est-z*(estVar/nn)^(1/2),est+z*(estVar/nn)^(1/2)))\n",
        "}\n",
        "monteCarloIntegrationUniform<-function(x,m,nn){\n",
        "    rVector<-runif(nn, 0,pi)\n",
        "    a<-g(m,rVector,x)\n",
        "    est=mean(a)*(1/pi)\n",
        "    cat(\"Real Bessel for bessel(x=\",x,\" m=\",m,\") =\",besselJ(x,m),\"\\n\")\n",
        "\n",
        "    cat(\"Estimate Mean\", est,\"\\n\")\n",
        "\n",
        "    vari=var(a)*(1/pi^2)\n",
        "    cat(\"Estimated Variance\",vari,\"\\n\")\n",
        "\n",
        "    inter=getInterval(est,vari,nn,0.05)\n",
        "    cat(\"Confidence Interval[\",inter,\"]\\n\")\n",
        "    cat(\"\\n\")\n",
        "    # print(inter)\n",
        "\n",
        "    return(c(est,vari))\n",
        "}\n",
        "c=monteCarloIntegrationUniform(1,1,10000)\n",
        "c=monteCarloIntegrationUniform(2,1,10000)\n",
        "c=monteCarloIntegrationUniform(2,2,10000)\n",
        "c=monteCarloIntegrationUniform(4,4,10000)\n",
        "\n"
      ],
      "metadata": {
        "id": "sI03qcq-AXZP",
        "colab": {
          "base_uri": "https://localhost:8080/"
        },
        "outputId": "37f8a2b1-cf7a-4986-f9fb-4829ffcbc5ad"
      },
      "execution_count": null,
      "outputs": [
        {
          "output_type": "stream",
          "name": "stdout",
          "text": [
            "Real Bessel for bessel(x= 1  m= 1 ) = 0.4400506 \n",
            "Estimate Mean 0.4393344 \n",
            "Estimated Variance 0.4840699 \n",
            "Confidence Interval[ 0.4256979 0.4529709 ]\n",
            "\n",
            "Real Bessel for bessel(x= 2  m= 1 ) = 0.5767248 \n",
            "Estimate Mean 0.5788179 \n",
            "Estimated Variance 0.3452437 \n",
            "Confidence Interval[ 0.5673016 0.5903341 ]\n",
            "\n",
            "Real Bessel for bessel(x= 2  m= 2 ) = 0.352834 \n",
            "Estimate Mean 0.3467494 \n",
            "Estimated Variance 0.5213279 \n",
            "Confidence Interval[ 0.3325979 0.3609009 ]\n",
            "\n",
            "Real Bessel for bessel(x= 4  m= 4 ) = 0.2811291 \n",
            "Estimate Mean 0.2745005 \n",
            "Estimated Variance 0.5372041 \n",
            "Confidence Interval[ 0.2601351 0.2888659 ]\n",
            "\n"
          ]
        }
      ]
    },
    {
      "cell_type": "markdown",
      "source": [
        "#2.2\n",
        "Given: $Y \\sim \\text{Beta}\\left(\\frac{1}{2}, \\frac{1}{2}\\right)$, $0 < Y < 1$.\n",
        "\n",
        "We have to rescale such that $0 < Y < \\pi$. So, $X = \\pi Y$.\n",
        "\n",
        "The PDF of $X$ is then:\n",
        "$$f(x)=\n",
        "\\left(\\frac{1}{\\pi^2}\\right) \\cdot \\left(\\frac{1}{\\sqrt{\\frac{x}{\\pi}}}\\right) \\cdot \\left(\\frac{1}{\\sqrt{1 - \\frac{x}{\\pi}}}\\right)\n",
        "$$\n"
      ],
      "metadata": {
        "id": "j4MmUizVYvIf"
      }
    },
    {
      "cell_type": "code",
      "source": [
        "g<-function(m,t,x){\n",
        "  k=cos(m*t-x*sin(t))\n",
        "  l=sapply(t,betaPdf)\n",
        "\n",
        "  return (k/l)\n",
        "}\n",
        "getInterval<-function(est,estVar,nn,alpha){\n",
        "  z<-qnorm(1-alpha/2)\n",
        "  return(c(est-z*(estVar/nn)^(1/2),est+z*(estVar/nn)^(1/2)))\n",
        "}\n",
        "betaPdf<-function(x){\n",
        "  return ((1/(pi^2)) * (1/sqrt(x/pi)) * (1/sqrt(1 - x/pi)))\n",
        "}\n",
        "monteCarloIntegrationBeta<-function(x,m,nn){\n",
        "    rVector<-pi*rbeta(nn,shape1=1/2,shape2=1/2)\n",
        "    a<-g(m,rVector,x)\n",
        "    est=(1/(pi))*mean(a)\n",
        "    cat(\"Real Bessel for bessel(x=\",x,\" m=\",m,\") =\",besselJ(x,m),\"\\n\")\n",
        "\n",
        "    cat(\"Estimate Mean\", est,\"\\n\")\n",
        "\n",
        "    vari=var(a)*(1/pi^2)\n",
        "    cat(\"Estimated Variance\",vari,\"\\n\")\n",
        "\n",
        "    inter=getInterval(est,vari,nn,0.05)\n",
        "    cat(\"Confidence Interval[\",inter,\"]\\n\")\n",
        "    cat(\"\\n\")\n",
        "    return(c(est,vari,inter))\n",
        "    }\n",
        "c=monteCarloIntegrationBeta(1,1,10000)\n",
        "a=monteCarloIntegrationBeta(2,1,10000)\n",
        "a=monteCarloIntegrationBeta(2,2,10000)\n",
        "a=monteCarloIntegrationBeta(4,4,10000)\n",
        "a=monteCarloIntegrationBeta(4,1,10000)\n",
        "\n"
      ],
      "metadata": {
        "colab": {
          "base_uri": "https://localhost:8080/"
        },
        "id": "yDNi1X6iIHOj",
        "outputId": "a0499211-588d-48b5-c0fb-30a2f2aef50d"
      },
      "execution_count": null,
      "outputs": [
        {
          "output_type": "stream",
          "name": "stdout",
          "text": [
            "Real Bessel for bessel(x= 1  m= 1 ) = 0.4400506 \n",
            "Estimate Mean 0.438219 \n",
            "Estimated Variance 0.5954912 \n",
            "Confidence Interval[ 0.4230944 0.4533437 ]\n",
            "\n",
            "Real Bessel for bessel(x= 2  m= 1 ) = 0.5767248 \n",
            "Estimate Mean 0.5689938 \n",
            "Estimated Variance 0.4993051 \n",
            "Confidence Interval[ 0.5551444 0.5828432 ]\n",
            "\n",
            "Real Bessel for bessel(x= 2  m= 2 ) = 0.352834 \n",
            "Estimate Mean 0.3450792 \n",
            "Estimated Variance 0.633686 \n",
            "Confidence Interval[ 0.329477 0.3606814 ]\n",
            "\n",
            "Real Bessel for bessel(x= 4  m= 4 ) = 0.2811291 \n",
            "Estimate Mean 0.2912116 \n",
            "Estimated Variance 0.6269125 \n",
            "Confidence Interval[ 0.2756931 0.3067302 ]\n",
            "\n",
            "Real Bessel for bessel(x= 4  m= 1 ) = -0.06604333 \n",
            "Estimate Mean -0.07178585 \n",
            "Estimated Variance 0.5131602 \n",
            "Confidence Interval[ -0.08582609 -0.0577456 ]\n",
            "\n"
          ]
        }
      ]
    },
    {
      "cell_type": "markdown",
      "source": [
        "#2.3\n",
        "Given: $Y \\sim \\text{Beta}(2,2)$, $0 < Y < 1$.\n",
        "\n",
        "We have to rescale such that $0 < Y < \\pi$. So, $X = \\pi Y$.\n",
        "\n",
        "The PDF of $X$ is then:\n",
        "$$\n",
        "f(x)=\\frac{{6x}}{{\\pi^2}} \\times \\left(1 - \\frac{x}{\\pi}\\right)\n",
        "$$"
      ],
      "metadata": {
        "id": "62XQf9fYTPQh"
      }
    },
    {
      "cell_type": "code",
      "source": [
        "g<-function(m,t,x){\n",
        "  k=cos(m*t-x*sin(t))\n",
        "  l=sapply(t,betaPdf)\n",
        "\n",
        "  return (k/l)\n",
        "}\n",
        "betaPdf<-function(x){\n",
        "  return (((6*x)/(pi^2)) * (1-(x/pi)))\n",
        "}\n",
        "getInterval<-function(est,estVar,nn,alpha){\n",
        "  z<-qnorm(1-alpha/2)\n",
        "  return(c(est-z*(estVar/nn)^(1/2),est+z*(estVar/nn)^(1/2)))\n",
        "}\n",
        "monteCarloIntegrationBeta<-function(x,m,nn){\n",
        "    rVector<-pi*rbeta(nn,shape1=2,shape2=2)\n",
        "    a<-g(m,rVector,x)\n",
        "\n",
        "    cat(\"Real Bessel for bessel(x=\",x,\" m=\",m,\") =\",besselJ(x,m),\"\\n\")\n",
        "    est=(1/(pi))*mean(a)\n",
        "    cat(\"Estimate Mean\", est,\"\\n\")\n",
        "\n",
        "    vari=var(a)*(1/pi^2)\n",
        "    cat(\"Estimated Variance\",vari,\"\\n\")\n",
        "\n",
        "    inter=getInterval(est,vari,nn,0.05)\n",
        "    cat(\"Confidence Interval[\",inter,\"]\\n\")\n",
        "    cat(\"\\n\")\n",
        "    # return(rbind(c[inter[1]],c[inter[2]]))\n",
        "\n",
        "\n",
        "    return(c(est, vari))\n",
        "    }\n",
        "a=monteCarloIntegrationBeta(1,1,10000)\n",
        "\n",
        "a=monteCarloIntegrationBeta(2,1,10000)\n",
        "a=monteCarloIntegrationBeta(2,2,10000)\n",
        "a=monteCarloIntegrationBeta(4,4,10000)\n",
        "a=monteCarloIntegrationBeta(4,1,10000)\n"
      ],
      "metadata": {
        "colab": {
          "base_uri": "https://localhost:8080/"
        },
        "id": "zSP3vkQtTRau",
        "outputId": "55c39aae-c264-4ba9-aef3-6a07e3fbad62"
      },
      "execution_count": null,
      "outputs": [
        {
          "output_type": "stream",
          "name": "stdout",
          "text": [
            "Real Bessel for bessel(x= 1  m= 1 ) = 0.4400506 \n",
            "Estimate Mean 0.4201218 \n",
            "Estimated Variance 1.702933 \n",
            "Confidence Interval[ 0.3945449 0.4456986 ]\n",
            "\n",
            "Real Bessel for bessel(x= 2  m= 1 ) = 0.5767248 \n",
            "Estimate Mean 0.5667005 \n",
            "Estimated Variance 1.20924 \n",
            "Confidence Interval[ 0.5451476 0.5882533 ]\n",
            "\n",
            "Real Bessel for bessel(x= 2  m= 2 ) = 0.352834 \n",
            "Estimate Mean 0.3375986 \n",
            "Estimated Variance 1.580782 \n",
            "Confidence Interval[ 0.3129561 0.3622411 ]\n",
            "\n",
            "Real Bessel for bessel(x= 4  m= 4 ) = 0.2811291 \n",
            "Estimate Mean 0.2874811 \n",
            "Estimated Variance 1.702545 \n",
            "Confidence Interval[ 0.2619072 0.313055 ]\n",
            "\n",
            "Real Bessel for bessel(x= 4  m= 1 ) = -0.06604333 \n",
            "Estimate Mean -0.08098914 \n",
            "Estimated Variance 1.521191 \n",
            "Confidence Interval[ -0.1051627 -0.05681562 ]\n",
            "\n"
          ]
        }
      ]
    }
  ]
}